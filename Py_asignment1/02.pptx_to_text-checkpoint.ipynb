{
 "cells": [
  {
   "cell_type": "markdown",
   "metadata": {},
   "source": [
    "### Powerpoint 파일에서 텍스트 추출하기\n",
    "\n",
    "파이썬을 이용해 파워포인트 파일에서 텍스트 혹은 이미지를 한번에 추출해 낼 수 있습니다.\n",
    "\n",
    "아래 코드를 참고해 파워포인 파일의 한 페이지에서 어떻게 텍스트를 추출해내는지 확인하고,\n",
    "\n",
    "모든 페이지에서 텍스트를 추출해 내는 미션을 완료하여 결과물을 파일로 저장하시기 바랍니다.\n",
    "\n",
    "텍스트 추출에 성공하면, 이미지 추출 방법에 대해서도 따로 연구해 보기 바랍니다."
   ]
  },
  {
   "cell_type": "markdown",
   "metadata": {},
   "source": [
    "#### 파워포인트 파일 핸들링 패키지인 python-pptx 이해하기"
   ]
  },
  {
   "cell_type": "code",
   "execution_count": null,
   "metadata": {},
   "outputs": [],
   "source": [
    "#파워포인트 파일을 읽고 쓸 수 있는 pptx '패키지'에서 Presentation '모듈'을 로드합니다.\n",
    "#pptx 패키지는 Command Prompt(or Terminal)에서 'pip install python-pptx'를 입력하여 설치할 수 있습니다.\n",
    "from pptx import Presentation"
   ]
  },
  {
   "cell_type": "code",
   "execution_count": null,
   "metadata": {},
   "outputs": [],
   "source": [
    "#file_name에는 읽고자 하는 파워포인트 파일의 이름을 입력합니다.\n",
    "#현재 주피터 노트북 파일과 같은 폴더에 있는 파워포인트 파일이라면 파일 이름만 입력하면 됩니다.\n",
    "file_name = \"sample.pptx\"\n",
    "\n",
    "#Presentation 모듈의 인자로 file_name을 입력하여 파워포인트 파일을 읽습니다.\n",
    "#Presentation 모듈의 인스턴스를 prs라는 변수에 할당합니다.\n",
    "prs = Presentation(file_name)\n",
    "prs"
   ]
  },
  {
   "cell_type": "code",
   "execution_count": null,
   "metadata": {},
   "outputs": [],
   "source": [
    "#prs 객체에 있는 slides 변수는 파워포인트 파일의 슬라이드 정보를 담고 있습니다.\n",
    "#prs.slides를 출력했을 때 알 수 없는 출력이 나오더라도 당황하지 마세요.\n",
    "prs.slides"
   ]
  },
  {
   "cell_type": "code",
   "execution_count": null,
   "metadata": {},
   "outputs": [],
   "source": [
    "#prs.slides에서 인덱싱을 통해 개별 슬라이드에 접근할 수 있습니다.\n",
    "#prs.slides[0]은 파워포인트 파일의 첫 번째 슬라이드를 나타냅니다.\n",
    "prs.slides[0]"
   ]
  },
  {
   "cell_type": "code",
   "execution_count": null,
   "metadata": {},
   "outputs": [],
   "source": [
    "#prs.slides[0]에서 shapes 변수는 첫 번째 슬라이드에 있는 모든 도형 정보를 담고 있습니다.\n",
    "prs.slides[0].shapes"
   ]
  },
  {
   "cell_type": "code",
   "execution_count": null,
   "metadata": {},
   "outputs": [],
   "source": [
    "#prs.slides[0].shapes에서 인덱싱을 통해 개별 도형에 접근할 수 있습니다.\n",
    "#즉, prs.slides[0].shapes[0]은 파워포인트 파일의 첫 번째 슬라이드의 첫 번째 도형을 나타냅니다.\n",
    "prs.slides[0].shapes[0]"
   ]
  },
  {
   "cell_type": "code",
   "execution_count": null,
   "metadata": {},
   "outputs": [],
   "source": [
    "#prs.slides[0].shapes[0]에서 text 변수는 첫 번째 슬라이드의 첫 번째 도형에 있는 텍스트 정보를 담고 있습니다.\n",
    "#드디어 우리가 원하는 정보에 접근할 수 있게 되었습니다.\n",
    "#정리하면, prs 하위에 slides, slides 하위에 shapes, shapes 하위에 text가 있습니다.\n",
    "prs.slides[0].shapes[0].text"
   ]
  },
  {
   "cell_type": "markdown",
   "metadata": {},
   "source": [
    "#### 반복문을 통해 1페이지에 있는 모든 텍스트 출력해 보기"
   ]
  },
  {
   "cell_type": "code",
   "execution_count": null,
   "metadata": {},
   "outputs": [],
   "source": [
    "#prs.slides[0].shapes은 인덱싱을 통해 접근할 수 있으므로 반복문이 가능합니다.\n",
    "#즉, prs.slides[0].shapes에 있는 모든 도형에 반복문을 통해 접근할 수 있습니다.\n",
    "for shape in prs.slides[0].shapes:\n",
    "    print(shape.text)"
   ]
  },
  {
   "cell_type": "code",
   "execution_count": null,
   "metadata": {},
   "outputs": [],
   "source": [
    "#이런, 에러가 났군요. 당황하지 말고 왜 에러가 났는지 잘 읽어 보세요.\n",
    "#한 가지 팁을 드리면, 파이썬에서는 항상 마지막 줄에 있는 에러가 가장 중요합니다.\n",
    "#마지막 줄 에러내용은 \"AttributeError: 'Picture' object has no attribute 'text'\"입니다.\n",
    "#즉, prs.slides[0].shapes에 있는 도형 중에는 text가 없는 도형(그림, 표, 차트 등)이 있어 에러가 났습니다.\n",
    "#이러한 도형들은 건너 뛰고 text가 있는 도형에만 접근하도록 코드를 수정해 보겠습니다.\n",
    "for shape in prs.slides[0].shapes:\n",
    "    if hasattr(shape, \"text\"): #hasattr 함수는 객체(여기서는 shape변수)에 어떤 변수가 있는지(여기서는 text변수) 확인하는 함수입니다.\n",
    "        print(shape.text)"
   ]
  },
  {
   "cell_type": "markdown",
   "metadata": {},
   "source": [
    "#### 미션1\n",
    "\n",
    "파워포인트 파일의 세 번째 페이지에서 텍스트를 추출해 화면에 출력해 보세요."
   ]
  },
  {
   "cell_type": "code",
   "execution_count": null,
   "metadata": {},
   "outputs": [],
   "source": [
    "########### 아래에 코드를 작성하세요 ###########\n"
   ]
  },
  {
   "cell_type": "markdown",
   "metadata": {},
   "source": [
    "#### 미션2\n",
    "\n",
    "반복문을 이용해 모든 페이지에 접근하면서 텍스트를 화면에 출력해 보세요"
   ]
  },
  {
   "cell_type": "code",
   "execution_count": null,
   "metadata": {},
   "outputs": [],
   "source": [
    "########### 아래에 코드를 작성하세요 ###########\n"
   ]
  },
  {
   "cell_type": "markdown",
   "metadata": {},
   "source": [
    "#### 미션3\n",
    "\n",
    "모든 페이지에 있는 텍스트를 texts 변수에 순차적으로 이어붙여 저장하세요.\n",
    "\n",
    "작업이 끝나면 texts 변수에 담긴 텍스트를 pptx_to_texts.txt 파일로 저장하세요."
   ]
  },
  {
   "cell_type": "code",
   "execution_count": null,
   "metadata": {},
   "outputs": [],
   "source": [
    "texts = \"\" #텍스트를 담아 둘 변수 'texts'를 미리 선언합니다.\n",
    "\n",
    "########### 아래에 코드를 작성하세요. 4줄로 가능합니다. ###########\n",
    "\n",
    "\n",
    "\n",
    "\n",
    "####################################################################\n",
    "\n",
    "#texts 변수에 담긴 내용을 보고 싶다면 아래 주석을 해제하세요.\n",
    "# print(texts)"
   ]
  },
  {
   "cell_type": "code",
   "execution_count": null,
   "metadata": {},
   "outputs": [],
   "source": [
    "#작성한 코드가 문제없다면 texts 변수에 저장된 텍스트를 txt 파일로 저장합니다.\n",
    "#현재 주피터 노트북 파일과 같은 폴더에 저장됩니다.\n",
    "open(\"pptx_to_texts.txt\", \"w\", encoding=\"utf-8\").write(texts)"
   ]
  }
 ],
 "metadata": {
  "kernelspec": {
   "display_name": "Python 3 (ipykernel)",
   "language": "python",
   "name": "python3"
  },
  "language_info": {
   "codemirror_mode": {
    "name": "ipython",
    "version": 3
   },
   "file_extension": ".py",
   "mimetype": "text/x-python",
   "name": "python",
   "nbconvert_exporter": "python",
   "pygments_lexer": "ipython3",
   "version": "3.9.12"
  }
 },
 "nbformat": 4,
 "nbformat_minor": 2
}
