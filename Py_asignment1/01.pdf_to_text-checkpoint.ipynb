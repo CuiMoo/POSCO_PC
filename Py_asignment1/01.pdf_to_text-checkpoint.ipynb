{
 "cells": [
  {
   "cell_type": "markdown",
   "metadata": {},
   "source": [
    "### Extracting text from PDF files¶\n",
    "\n",
    "Extracting text from PDF files¶\n",
    "You can extract text or images from PDF files at once using Python.\n",
    "\n",
    "Refer to the code below to see how to extract text from one page of a PDF file.\n",
    "\n",
    "Please complete the mission to extract text from all pages and save the result as a file.\n",
    "\n",
    "If text extraction is successful, please research image extraction methods separately."
   ]
  },
  {
   "cell_type": "markdown",
   "metadata": {},
   "source": [
    "#### Understand how to extract text"
   ]
  },
  {
   "cell_type": "code",
   "execution_count": 1,
   "metadata": {},
   "outputs": [
    {
     "ename": "ModuleNotFoundError",
     "evalue": "No module named 'PyPDF2'",
     "output_type": "error",
     "traceback": [
      "\u001b[1;31m---------------------------------------------------------------------------\u001b[0m",
      "\u001b[1;31mModuleNotFoundError\u001b[0m                       Traceback (most recent call last)",
      "Input \u001b[1;32mIn [1]\u001b[0m, in \u001b[0;36m<cell line: 3>\u001b[1;34m()\u001b[0m\n\u001b[0;32m      1\u001b[0m \u001b[38;5;66;03m#Load the PdfReader 'module' from the PyPDF2 'package' that can read and write pdf files.\u001b[39;00m\n\u001b[0;32m      2\u001b[0m \u001b[38;5;66;03m#PyPDF2 can be installed by entering ‘pip install PyPDF2’ in Command Prompt (or Terminal).\u001b[39;00m\n\u001b[1;32m----> 3\u001b[0m \u001b[38;5;28;01mfrom\u001b[39;00m \u001b[38;5;21;01mPyPDF2\u001b[39;00m \u001b[38;5;28;01mimport\u001b[39;00m PdfReader\n",
      "\u001b[1;31mModuleNotFoundError\u001b[0m: No module named 'PyPDF2'"
     ]
    }
   ],
   "source": [
    "#Load the PdfReader 'module' from the PyPDF2 'package' that can read and write pdf files.\n",
    "#PyPDF2 can be installed by entering ‘pip install PyPDF2’ in Command Prompt (or Terminal).\n",
    "from PyPDF2 import PdfReader"
   ]
  },
  {
   "cell_type": "code",
   "execution_count": null,
   "metadata": {},
   "outputs": [],
   "source": [
    "#file_name, enter the name of the PDF file you want to read.\n",
    "#If it is a PDF file in the same folder as the current Jupyter Notebook file, just enter the file name.\n",
    "file_name = \"POSCO Sustainability Report 2022.pdf\"\n",
    "\n",
    "#Read the PDF file by entering file_name as an argument to the PdfReader module.\n",
    "#rb stands for read binary, which means reading PDF files in binary format.\n",
    "pdfReader = PdfReader(file_name, \"rb\")"
   ]
  },
  {
   "cell_type": "code",
   "execution_count": null,
   "metadata": {},
   "outputs": [],
   "source": [
    "#pdfReader.pages[0] refers to the first page of the read PDF file.If you run \n",
    "#pdfReader.pages[0] and look at the output results, you can check various information contained in the first page in the dictionary.\n",
    "pdfReader.pages[0]"
   ]
  },
  {
   "cell_type": "code",
   "execution_count": null,
   "metadata": {},
   "outputs": [],
   "source": [
    "#pdfReader.pages[0] You can extract only text using the object's extract_text() method.\n",
    "pdfReader.pages[0].extract_text()"
   ]
  },
  {
   "cell_type": "markdown",
   "metadata": {},
   "source": [
    "#### 미션1\n",
    "\n",
    "pdf 파일의 세 번째 페이지에서 텍스트를 추출해 화면에 출력해 보세요."
   ]
  },
  {
   "cell_type": "code",
   "execution_count": null,
   "metadata": {},
   "outputs": [],
   "source": [
    "########### 아래에 코드를 작성하세요 ###########\n"
   ]
  },
  {
   "cell_type": "markdown",
   "metadata": {},
   "source": [
    "#### 미션2\n",
    "\n",
    "반복문을 이용해 모든 페이지에 접근하면서 텍스트를 화면에 출력해 보세요"
   ]
  },
  {
   "cell_type": "code",
   "execution_count": null,
   "metadata": {},
   "outputs": [],
   "source": [
    "########### 아래에 코드를 작성하세요 ###########\n"
   ]
  },
  {
   "cell_type": "markdown",
   "metadata": {},
   "source": [
    "#### 미션3\n",
    "\n",
    "모든 페이지에 있는 텍스트를 texts 변수에 순차적으로 이어붙여 저장하세요.\n",
    "\n",
    "작업이 끝나면 texts 변수에 담긴 텍스트를 pdf_to_texts.txt 파일로 저장하세요."
   ]
  },
  {
   "cell_type": "code",
   "execution_count": null,
   "metadata": {},
   "outputs": [],
   "source": [
    "texts = \"\" #텍스트를 담아 둘 변수 'texts'를 미리 선언합니다.\n",
    "\n",
    "########### 아래에 코드를 작성하세요 2줄로 가능합니다. ###########\n",
    "\n",
    "\n",
    "##################################################################\n",
    "\n",
    "#texts 변수에 담긴 내용을 보고 싶다면 아래 주석을 해제하세요.\n",
    "# print(texts)"
   ]
  },
  {
   "cell_type": "code",
   "execution_count": null,
   "metadata": {},
   "outputs": [],
   "source": [
    "#작성한 코드가 문제없다면 texts 변수에 저장된 텍스트를 txt 파일로 저장합니다.\n",
    "#현재 주피터 노트북 파일과 같은 폴더에 저장됩니다.\n",
    "open(\"pdf_to_texts.txt\", \"w\", encoding=\"utf-8\").write(texts)"
   ]
  }
 ],
 "metadata": {
  "kernelspec": {
   "display_name": "Python 3 (ipykernel)",
   "language": "python",
   "name": "python3"
  },
  "language_info": {
   "codemirror_mode": {
    "name": "ipython",
    "version": 3
   },
   "file_extension": ".py",
   "mimetype": "text/x-python",
   "name": "python",
   "nbconvert_exporter": "python",
   "pygments_lexer": "ipython3",
   "version": "3.9.12"
  }
 },
 "nbformat": 4,
 "nbformat_minor": 2
}
