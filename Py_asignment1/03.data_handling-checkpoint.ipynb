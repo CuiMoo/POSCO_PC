{
 "cells": [
  {
   "cell_type": "markdown",
   "metadata": {},
   "source": [
    "### 엑셀 파일을 파이썬으로 불러와 데이터 처리하기\n",
    "\n",
    "파이썬은 데이터 분석에 매우 큰 강점을 지니고 있습니다.\n",
    "\n",
    "이러한 강점은 파이썬이 AI에 특화된 언어로 발전하는데 큰 기여를 했습니다.\n",
    "\n",
    "아래 코드를 참고해 파이썬에서 가장 유명한 패키지인 Pandas를 이용해 어떻게 엑셀 파일을 로드할 수 있는지,\n",
    "\n",
    "또, 로드한 엑셀 파일의 데이터를 어떻게 처리하는지 간단히 체험해 보기 바랍니다.\n",
    "\n",
    "또한 별도 학습을 통해 미션을 완료해 보기 바랍니다."
   ]
  },
  {
   "cell_type": "markdown",
   "metadata": {},
   "source": [
    "#### 파워포인트 핸들링 패키지인 python-pptx 이해하기"
   ]
  },
  {
   "cell_type": "code",
   "execution_count": null,
   "metadata": {},
   "outputs": [],
   "source": [
    "#데이터 처리 패키지인 Pandas를 pd라는 이름으로 로드합니다.\n",
    "#pandas 패키지는 Command Prompt(or Terminal)에서 'pip install pandas'를 입력하여 설치할 수 있습니다.\n",
    "import pandas as pd"
   ]
  },
  {
   "cell_type": "code",
   "execution_count": null,
   "metadata": {},
   "outputs": [],
   "source": [
    "#file_name에는 읽고자 하는 엑셀 파일의 이름을 입력합니다.\n",
    "#현재 주피터 노트북 파일과 같은 폴더에 있는 엑셀 파일이라면 파일 이름만 입력하면 됩니다.\n",
    "file_name = \"sample_data.xlsx\"\n",
    "\n",
    "#pandas의 read_excel 함수를 이용하여 sample_data.xlsx 파일을 읽어옵니다.\n",
    "#read_excel 함수의 첫 번째 인자로는 파일 이름을, 두 번째 인자로는 읽고자 하는 시트의 이름을 옵션으로 입력합니다. 만약 두 번째 인자를 입력하지 않으면 첫 번째 시트를 읽어옵니다.\n",
    "#불러온 데이터는 DataFrame 자료형으로 변환됩니다. DataFrame은 pandas에서 사용하는 자료형의 이름입니다. 엑셀과 동일한 형식의 특별한 자료형이라고 생각하면 됩니다.\n",
    "#DataFrame으로 변환된 자료이므로, 이 자료를 저장할 변수 이름을 df로 줄여서 사용하겠습니다.\n",
    "df = pd.read_excel(file_name)\n",
    "\n",
    "#df를 출력해보면 엑셀과 같은 2차원 행렬 형태의 자료임을 확인할 수 있습니다.\n",
    "#sample_data.xlsx 파일은 지난 10년간의 철광석 가격과 열연 코일 가격을 담고 있습니다.\n",
    "df"
   ]
  },
  {
   "cell_type": "markdown",
   "metadata": {},
   "source": [
    "#### DataFrame으로 다양한 것들을 해보기"
   ]
  },
  {
   "cell_type": "code",
   "execution_count": null,
   "metadata": {},
   "outputs": [],
   "source": [
    "#df.describe()를 통해 df의 간단한 기술통계 정보를 바로 확인할 수 있습니다.\n",
    "#자료의 갯수(count), 평균(mean), 표준편차(std), 최소값(min), 1사분위수(25%), 2사분위수(50%), 3사분위수(75%), 최대값(max)을 확인할 수 있습니다.\n",
    "df.describe()"
   ]
  },
  {
   "cell_type": "code",
   "execution_count": null,
   "metadata": {},
   "outputs": [],
   "source": [
    "#df[열이름 리스트]를 통해 원하는 열만 선택해 출력해 볼 수 있습니다.\n",
    "df[[\"date\", \"ore price\"]]"
   ]
  },
  {
   "cell_type": "code",
   "execution_count": null,
   "metadata": {},
   "outputs": [],
   "source": [
    "#한 열만 볼 때는 열 이름을 그냥 넣어서 인덱싱을 하면 됩니다. 하지만, df 형태가 아닌 다른 형태(Series)로 출력됩니다.\n",
    "df[\"ore price\"]"
   ]
  },
  {
   "cell_type": "code",
   "execution_count": null,
   "metadata": {},
   "outputs": [],
   "source": [
    "#참고) 한 열만 볼 때도 열 이름을 리스트 자료로 넣어도 에러는 발생하지 않습니다. 오히려 df 형태로 출력되어 보기는 더 편합니다.\n",
    "df[[\"ore price\"]]"
   ]
  },
  {
   "cell_type": "code",
   "execution_count": null,
   "metadata": {},
   "outputs": [],
   "source": [
    "#두 개의 열에 있는 값을 계산하고, 그 결과를 새로운 열에 쉽게 저장할 수 있습니다.\n",
    "#열 인덱싱을 통해 2개 열을 선택하고, 덧셈 연산을 하여 새로운 열(sum)에 저장합니다.\n",
    "df[\"sum\"] = df[\"ore price\"] + df[\"hr price\"]\n",
    "df"
   ]
  },
  {
   "cell_type": "code",
   "execution_count": null,
   "metadata": {},
   "outputs": [],
   "source": [
    "#숫자로 된 열 두 개를 선택해 상관계수를 바로 계산해 볼 수 있습니다.\n",
    "#상관계수는 0.63으로 철광석과 열연코일은 꽤 높은 상관성을 가진다고 생각할 수 있습니다.\n",
    "df[[\"ore price\", \"hr price\"]].corr()"
   ]
  },
  {
   "cell_type": "code",
   "execution_count": null,
   "metadata": {},
   "outputs": [],
   "source": [
    "#상관성을 눈으로 확인하고 싶다면, 아래와 같이 산점도를 그려볼 수 있습니다.\n",
    "#산점도는 pandas 내부적으로 matplotlib 패키지를 이용하여 그리므로, matplotlib 패키지를 따로 로드할 필요는 없습니다.\n",
    "#단, 이를 위해서는 pandas가 matplotlib 패키지를 사용할 수 있도록 미리 설치되어 있어야 합니다.\n",
    "#Command Prompt(or Terminal)에서 'pip install matplotlib'을 입력하여 설치할 수 있습니다.\n",
    "df.plot.scatter(x=\"ore price\", y=\"hr price\")"
   ]
  },
  {
   "cell_type": "markdown",
   "metadata": {},
   "source": [
    "#### 미션1\n",
    "\n",
    "구글 검색을 통해 df의 10번째행에서 50번째 행까지만 잘라내어 화면에 출력하는 코드를 작성해 보세요. 한 줄로 가능합니다."
   ]
  },
  {
   "cell_type": "code",
   "execution_count": null,
   "metadata": {},
   "outputs": [],
   "source": [
    "########### 아래에 코드를 작성하세요 ###########\n"
   ]
  },
  {
   "cell_type": "markdown",
   "metadata": {},
   "source": [
    "#### 미션2\n",
    "\n",
    "구글 검색을 통해 ore price에 담긴 값을 히스토그램으로 그려서 표현하는 법을 찾아보세요. 한줄로 가능합니다."
   ]
  },
  {
   "cell_type": "code",
   "execution_count": null,
   "metadata": {},
   "outputs": [],
   "source": [
    "########### 아래에 코드를 작성하세요 ###########\n"
   ]
  },
  {
   "cell_type": "markdown",
   "metadata": {},
   "source": [
    "#### 미션3\n",
    "\n",
    "구글 검색을 통해 hr price 값이 500 이하인 데이터만 뽑아 df_2 변수에 저장하고 화면에 출력해 보세요.\n",
    "\n",
    "성공한다면, df_2 변수를 엑셀 파일로 저장해 엑셀 프로그램으로 열어볼 수 있을 것입니다.\n",
    "\n",
    "어려운 작업일 수도 있지만, 포기하지 말고 시도해 보세요."
   ]
  },
  {
   "cell_type": "code",
   "execution_count": null,
   "metadata": {},
   "outputs": [],
   "source": [
    "########### 아래에 코드를 작성하세요. 1줄로 가능합니다. ###########\n",
    "df_2 = 코드를 입력하세요\n",
    "\n",
    "####################################################################\n",
    "\n",
    "df_2"
   ]
  },
  {
   "cell_type": "code",
   "execution_count": null,
   "metadata": {},
   "outputs": [],
   "source": [
    "#작성한 코드가 문제없다면 df_2 변수에 저장된 DataFrame을 엑셀 파일로 저장합니다.\n",
    "#현재 주피터 노트북 파일과 같은 폴더에 저장됩니다.\n",
    "df_2.to_excel(\"hr_price_under_500.xlsx\")"
   ]
  }
 ],
 "metadata": {
  "kernelspec": {
   "display_name": "Python 3 (ipykernel)",
   "language": "python",
   "name": "python3"
  },
  "language_info": {
   "codemirror_mode": {
    "name": "ipython",
    "version": 3
   },
   "file_extension": ".py",
   "mimetype": "text/x-python",
   "name": "python",
   "nbconvert_exporter": "python",
   "pygments_lexer": "ipython3",
   "version": "3.9.12"
  }
 },
 "nbformat": 4,
 "nbformat_minor": 2
}
